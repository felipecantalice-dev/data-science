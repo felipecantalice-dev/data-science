{
 "cells": [
  {
   "cell_type": "code",
   "execution_count": 1,
   "metadata": {
    "id": "YtZscTi5S8Dk"
   },
   "outputs": [],
   "source": [
    "import pandas as pd\n",
    "from sklearn.metrics import accuracy_score"
   ]
  },
  {
   "cell_type": "code",
   "execution_count": null,
   "metadata": {
    "colab": {
     "base_uri": "https://localhost:8080/",
     "height": 486
    },
    "id": "xoEQxScAS8Dm",
    "outputId": "f90e8a26-12d9-46c0-90ca-5442affb8e85"
   },
   "outputs": [],
   "source": [
    "df = pd.read_excel(\"./dataset.xlsx\")\n",
    "df.head()"
   ]
  },
  {
   "cell_type": "code",
   "execution_count": null,
   "metadata": {
    "colab": {
     "base_uri": "https://localhost:8080/",
     "height": 486
    },
    "id": "hsBLf56dS8Dn",
    "outputId": "4da91723-97a6-4bec-e79b-5fe8b8e8e8c6"
   },
   "outputs": [],
   "source": [
    "# Combina o Status No Prazo e Antecipado para Entregue\n",
    "df['Status_Entrega'] = df['Status_Entrega'].replace(['Antecipado', 'No Prazo'], 'Entregue')\n",
    "df.head()"
   ]
  },
  {
   "cell_type": "code",
   "execution_count": null,
   "metadata": {
    "id": "SLPdL5DxTvR5"
   },
   "outputs": [],
   "source": [
    "# Seleciona as caracteristicas interessantes \n",
    "X = df[['Equipe_Entrega', 'Canal_Entrega']]\n",
    "y = df['Status_Entrega']"
   ]
  },
  {
   "cell_type": "code",
   "execution_count": null,
   "metadata": {
    "colab": {
     "base_uri": "https://localhost:8080/",
     "height": 423
    },
    "id": "j3k1T7GmXaa3",
    "outputId": "630dd5ed-98eb-4ccd-ec3f-57bbba080545"
   },
   "outputs": [],
   "source": [
    "# Converte x para valores numericos\n",
    "X\n",
    "X_dummy = pd.get_dummies(X)"
   ]
  },
  {
   "cell_type": "code",
   "execution_count": null,
   "metadata": {},
   "outputs": [],
   "source": [
    "from sklearn.model_selection import train_test_split\n",
    "\n",
    "x_training_data, x_test_data, y_training_data, y_test_data = train_test_split(X_dummy\n",
    "                                                                              , y, test_size = 0.3)\n",
    "# Cria o modelo\n",
    "from sklearn.linear_model import LogisticRegression\n",
    "model = LogisticRegression()\n",
    "\n",
    "# Treina o modelo\n",
    "model.fit(x_training_data, y_training_data)\n",
    "predictions = model.predict(x_test_data)"
   ]
  },
  {
   "cell_type": "code",
   "execution_count": null,
   "metadata": {},
   "outputs": [],
   "source": [
    "# Verifica a acuracia\n",
    "accuracy = accuracy_score(y_test_data, predictions)\n",
    "print(\"Accuracy:\", accuracy)"
   ]
  },
  {
   "cell_type": "code",
   "execution_count": null,
   "metadata": {},
   "outputs": [],
   "source": [
    "# Calcula as metricas\n",
    "from sklearn.metrics import classification_report\n",
    "print(classification_report(y_test_data, predictions))"
   ]
  },
  {
   "cell_type": "code",
   "execution_count": null,
   "metadata": {},
   "outputs": [],
   "source": [
    "# Gera a matrix de confusao\n",
    "from sklearn.metrics import confusion_matrix\n",
    "print(confusion_matrix(y_test_data, predictions))"
   ]
  },
  {
   "cell_type": "code",
   "execution_count": null,
   "metadata": {},
   "outputs": [],
   "source": []
  }
 ],
 "metadata": {
  "colab": {
   "provenance": []
  },
  "kernelspec": {
   "display_name": "Python 3 (ipykernel)",
   "language": "python",
   "name": "python3"
  },
  "language_info": {
   "codemirror_mode": {
    "name": "ipython",
    "version": 3
   },
   "file_extension": ".py",
   "mimetype": "text/x-python",
   "name": "python",
   "nbconvert_exporter": "python",
   "pygments_lexer": "ipython3",
   "version": "3.10.13"
  }
 },
 "nbformat": 4,
 "nbformat_minor": 4
}
