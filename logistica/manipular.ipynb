{
 "cells": [
  {
   "cell_type": "markdown",
   "metadata": {},
   "source": [
    "#### Tranformação de dados"
   ]
  },
  {
   "cell_type": "code",
   "execution_count": 36,
   "metadata": {
    "id": "YtZscTi5S8Dk"
   },
   "outputs": [],
   "source": [
    "import pandas as pd\n",
    "from sklearn.metrics import accuracy_score\n",
    "import matplotlib.pylab as plt\n",
    "import numpy as np"
   ]
  },
  {
   "cell_type": "code",
   "execution_count": 12,
   "metadata": {
    "colab": {
     "base_uri": "https://localhost:8080/",
     "height": 486
    },
    "id": "xoEQxScAS8Dm",
    "outputId": "f90e8a26-12d9-46c0-90ca-5442affb8e85"
   },
   "outputs": [
    {
     "data": {
      "text/html": [
       "<div>\n",
       "<style scoped>\n",
       "    .dataframe tbody tr th:only-of-type {\n",
       "        vertical-align: middle;\n",
       "    }\n",
       "\n",
       "    .dataframe tbody tr th {\n",
       "        vertical-align: top;\n",
       "    }\n",
       "\n",
       "    .dataframe thead th {\n",
       "        text-align: right;\n",
       "    }\n",
       "</style>\n",
       "<table border=\"1\" class=\"dataframe\">\n",
       "  <thead>\n",
       "    <tr style=\"text-align: right;\">\n",
       "      <th></th>\n",
       "      <th>ID_Pedido</th>\n",
       "      <th>ID_Vendedor</th>\n",
       "      <th>ID_Cliente</th>\n",
       "      <th>Equipe_Entrega</th>\n",
       "      <th>Cliente</th>\n",
       "      <th>Canal_Entrega</th>\n",
       "      <th>ID_Cidade</th>\n",
       "      <th>Data_Pedido</th>\n",
       "      <th>Data_Entrega_Prevista</th>\n",
       "      <th>Data_Entrega_Realizada</th>\n",
       "      <th>Status_Entrega</th>\n",
       "    </tr>\n",
       "  </thead>\n",
       "  <tbody>\n",
       "    <tr>\n",
       "      <th>0</th>\n",
       "      <td>5630436</td>\n",
       "      <td>3459</td>\n",
       "      <td>72805</td>\n",
       "      <td>Norte</td>\n",
       "      <td>Cliente 1120</td>\n",
       "      <td>Canal12</td>\n",
       "      <td>79</td>\n",
       "      <td>quarta-feira, 18 de dezembro de 2019</td>\n",
       "      <td>domingo, 22 de dezembro de 2019</td>\n",
       "      <td>sexta-feira, 20 de dezembro de 2019</td>\n",
       "      <td>Antecipado</td>\n",
       "    </tr>\n",
       "    <tr>\n",
       "      <th>1</th>\n",
       "      <td>5629618</td>\n",
       "      <td>3459</td>\n",
       "      <td>130086</td>\n",
       "      <td>Norte</td>\n",
       "      <td>Cliente 2351</td>\n",
       "      <td>Canal12</td>\n",
       "      <td>79</td>\n",
       "      <td>quarta-feira, 18 de dezembro de 2019</td>\n",
       "      <td>domingo, 22 de dezembro de 2019</td>\n",
       "      <td>sexta-feira, 20 de dezembro de 2019</td>\n",
       "      <td>Antecipado</td>\n",
       "    </tr>\n",
       "    <tr>\n",
       "      <th>2</th>\n",
       "      <td>5629847</td>\n",
       "      <td>3459</td>\n",
       "      <td>59873</td>\n",
       "      <td>Norte</td>\n",
       "      <td>Cliente 7995</td>\n",
       "      <td>Canal12</td>\n",
       "      <td>79</td>\n",
       "      <td>quarta-feira, 18 de dezembro de 2019</td>\n",
       "      <td>domingo, 22 de dezembro de 2019</td>\n",
       "      <td>sexta-feira, 20 de dezembro de 2019</td>\n",
       "      <td>Antecipado</td>\n",
       "    </tr>\n",
       "    <tr>\n",
       "      <th>3</th>\n",
       "      <td>5630482</td>\n",
       "      <td>3459</td>\n",
       "      <td>76035</td>\n",
       "      <td>Norte</td>\n",
       "      <td>Cliente 2236</td>\n",
       "      <td>Canal12</td>\n",
       "      <td>79</td>\n",
       "      <td>quarta-feira, 18 de dezembro de 2019</td>\n",
       "      <td>domingo, 22 de dezembro de 2019</td>\n",
       "      <td>sexta-feira, 20 de dezembro de 2019</td>\n",
       "      <td>Antecipado</td>\n",
       "    </tr>\n",
       "    <tr>\n",
       "      <th>4</th>\n",
       "      <td>5628297</td>\n",
       "      <td>3459</td>\n",
       "      <td>72610</td>\n",
       "      <td>Norte</td>\n",
       "      <td>Cliente 3081</td>\n",
       "      <td>Canal12</td>\n",
       "      <td>79</td>\n",
       "      <td>terça-feira, 17 de dezembro de 2019</td>\n",
       "      <td>sábado, 21 de dezembro de 2019</td>\n",
       "      <td>quinta-feira, 19 de dezembro de 2019</td>\n",
       "      <td>Antecipado</td>\n",
       "    </tr>\n",
       "  </tbody>\n",
       "</table>\n",
       "</div>"
      ],
      "text/plain": [
       "   ID_Pedido  ID_Vendedor  ID_Cliente Equipe_Entrega       Cliente  \\\n",
       "0    5630436         3459       72805          Norte  Cliente 1120   \n",
       "1    5629618         3459      130086          Norte  Cliente 2351   \n",
       "2    5629847         3459       59873          Norte  Cliente 7995   \n",
       "3    5630482         3459       76035          Norte  Cliente 2236   \n",
       "4    5628297         3459       72610          Norte  Cliente 3081   \n",
       "\n",
       "  Canal_Entrega  ID_Cidade                           Data_Pedido  \\\n",
       "0       Canal12         79  quarta-feira, 18 de dezembro de 2019   \n",
       "1       Canal12         79  quarta-feira, 18 de dezembro de 2019   \n",
       "2       Canal12         79  quarta-feira, 18 de dezembro de 2019   \n",
       "3       Canal12         79  quarta-feira, 18 de dezembro de 2019   \n",
       "4       Canal12         79   terça-feira, 17 de dezembro de 2019   \n",
       "\n",
       "             Data_Entrega_Prevista                Data_Entrega_Realizada  \\\n",
       "0  domingo, 22 de dezembro de 2019   sexta-feira, 20 de dezembro de 2019   \n",
       "1  domingo, 22 de dezembro de 2019   sexta-feira, 20 de dezembro de 2019   \n",
       "2  domingo, 22 de dezembro de 2019   sexta-feira, 20 de dezembro de 2019   \n",
       "3  domingo, 22 de dezembro de 2019   sexta-feira, 20 de dezembro de 2019   \n",
       "4   sábado, 21 de dezembro de 2019  quinta-feira, 19 de dezembro de 2019   \n",
       "\n",
       "  Status_Entrega  \n",
       "0     Antecipado  \n",
       "1     Antecipado  \n",
       "2     Antecipado  \n",
       "3     Antecipado  \n",
       "4     Antecipado  "
      ]
     },
     "execution_count": 12,
     "metadata": {},
     "output_type": "execute_result"
    }
   ],
   "source": [
    "df = pd.read_excel(\"./dataset.xlsx\")\n",
    "df.head()"
   ]
  },
  {
   "cell_type": "code",
   "execution_count": 13,
   "metadata": {
    "colab": {
     "base_uri": "https://localhost:8080/",
     "height": 486
    },
    "id": "hsBLf56dS8Dn",
    "outputId": "4da91723-97a6-4bec-e79b-5fe8b8e8e8c6"
   },
   "outputs": [
    {
     "data": {
      "text/html": [
       "<div>\n",
       "<style scoped>\n",
       "    .dataframe tbody tr th:only-of-type {\n",
       "        vertical-align: middle;\n",
       "    }\n",
       "\n",
       "    .dataframe tbody tr th {\n",
       "        vertical-align: top;\n",
       "    }\n",
       "\n",
       "    .dataframe thead th {\n",
       "        text-align: right;\n",
       "    }\n",
       "</style>\n",
       "<table border=\"1\" class=\"dataframe\">\n",
       "  <thead>\n",
       "    <tr style=\"text-align: right;\">\n",
       "      <th></th>\n",
       "      <th>ID_Pedido</th>\n",
       "      <th>ID_Vendedor</th>\n",
       "      <th>ID_Cliente</th>\n",
       "      <th>Equipe_Entrega</th>\n",
       "      <th>Cliente</th>\n",
       "      <th>Canal_Entrega</th>\n",
       "      <th>ID_Cidade</th>\n",
       "      <th>Data_Pedido</th>\n",
       "      <th>Data_Entrega_Prevista</th>\n",
       "      <th>Data_Entrega_Realizada</th>\n",
       "      <th>Status_Entrega</th>\n",
       "    </tr>\n",
       "  </thead>\n",
       "  <tbody>\n",
       "    <tr>\n",
       "      <th>0</th>\n",
       "      <td>5630436</td>\n",
       "      <td>3459</td>\n",
       "      <td>72805</td>\n",
       "      <td>Norte</td>\n",
       "      <td>Cliente 1120</td>\n",
       "      <td>Canal12</td>\n",
       "      <td>79</td>\n",
       "      <td>quarta-feira, 18 de dezembro de 2019</td>\n",
       "      <td>domingo, 22 de dezembro de 2019</td>\n",
       "      <td>sexta-feira, 20 de dezembro de 2019</td>\n",
       "      <td>Entregue</td>\n",
       "    </tr>\n",
       "    <tr>\n",
       "      <th>1</th>\n",
       "      <td>5629618</td>\n",
       "      <td>3459</td>\n",
       "      <td>130086</td>\n",
       "      <td>Norte</td>\n",
       "      <td>Cliente 2351</td>\n",
       "      <td>Canal12</td>\n",
       "      <td>79</td>\n",
       "      <td>quarta-feira, 18 de dezembro de 2019</td>\n",
       "      <td>domingo, 22 de dezembro de 2019</td>\n",
       "      <td>sexta-feira, 20 de dezembro de 2019</td>\n",
       "      <td>Entregue</td>\n",
       "    </tr>\n",
       "    <tr>\n",
       "      <th>2</th>\n",
       "      <td>5629847</td>\n",
       "      <td>3459</td>\n",
       "      <td>59873</td>\n",
       "      <td>Norte</td>\n",
       "      <td>Cliente 7995</td>\n",
       "      <td>Canal12</td>\n",
       "      <td>79</td>\n",
       "      <td>quarta-feira, 18 de dezembro de 2019</td>\n",
       "      <td>domingo, 22 de dezembro de 2019</td>\n",
       "      <td>sexta-feira, 20 de dezembro de 2019</td>\n",
       "      <td>Entregue</td>\n",
       "    </tr>\n",
       "    <tr>\n",
       "      <th>3</th>\n",
       "      <td>5630482</td>\n",
       "      <td>3459</td>\n",
       "      <td>76035</td>\n",
       "      <td>Norte</td>\n",
       "      <td>Cliente 2236</td>\n",
       "      <td>Canal12</td>\n",
       "      <td>79</td>\n",
       "      <td>quarta-feira, 18 de dezembro de 2019</td>\n",
       "      <td>domingo, 22 de dezembro de 2019</td>\n",
       "      <td>sexta-feira, 20 de dezembro de 2019</td>\n",
       "      <td>Entregue</td>\n",
       "    </tr>\n",
       "    <tr>\n",
       "      <th>4</th>\n",
       "      <td>5628297</td>\n",
       "      <td>3459</td>\n",
       "      <td>72610</td>\n",
       "      <td>Norte</td>\n",
       "      <td>Cliente 3081</td>\n",
       "      <td>Canal12</td>\n",
       "      <td>79</td>\n",
       "      <td>terça-feira, 17 de dezembro de 2019</td>\n",
       "      <td>sábado, 21 de dezembro de 2019</td>\n",
       "      <td>quinta-feira, 19 de dezembro de 2019</td>\n",
       "      <td>Entregue</td>\n",
       "    </tr>\n",
       "  </tbody>\n",
       "</table>\n",
       "</div>"
      ],
      "text/plain": [
       "   ID_Pedido  ID_Vendedor  ID_Cliente Equipe_Entrega       Cliente  \\\n",
       "0    5630436         3459       72805          Norte  Cliente 1120   \n",
       "1    5629618         3459      130086          Norte  Cliente 2351   \n",
       "2    5629847         3459       59873          Norte  Cliente 7995   \n",
       "3    5630482         3459       76035          Norte  Cliente 2236   \n",
       "4    5628297         3459       72610          Norte  Cliente 3081   \n",
       "\n",
       "  Canal_Entrega  ID_Cidade                           Data_Pedido  \\\n",
       "0       Canal12         79  quarta-feira, 18 de dezembro de 2019   \n",
       "1       Canal12         79  quarta-feira, 18 de dezembro de 2019   \n",
       "2       Canal12         79  quarta-feira, 18 de dezembro de 2019   \n",
       "3       Canal12         79  quarta-feira, 18 de dezembro de 2019   \n",
       "4       Canal12         79   terça-feira, 17 de dezembro de 2019   \n",
       "\n",
       "             Data_Entrega_Prevista                Data_Entrega_Realizada  \\\n",
       "0  domingo, 22 de dezembro de 2019   sexta-feira, 20 de dezembro de 2019   \n",
       "1  domingo, 22 de dezembro de 2019   sexta-feira, 20 de dezembro de 2019   \n",
       "2  domingo, 22 de dezembro de 2019   sexta-feira, 20 de dezembro de 2019   \n",
       "3  domingo, 22 de dezembro de 2019   sexta-feira, 20 de dezembro de 2019   \n",
       "4   sábado, 21 de dezembro de 2019  quinta-feira, 19 de dezembro de 2019   \n",
       "\n",
       "  Status_Entrega  \n",
       "0       Entregue  \n",
       "1       Entregue  \n",
       "2       Entregue  \n",
       "3       Entregue  \n",
       "4       Entregue  "
      ]
     },
     "execution_count": 13,
     "metadata": {},
     "output_type": "execute_result"
    }
   ],
   "source": [
    "# Combina o Status No Prazo e Antecipado para Entregue\n",
    "df['Status_Entrega'] = df['Status_Entrega'].replace(['Antecipado', 'No Prazo'], 'Entregue')\n",
    "df.head()"
   ]
  },
  {
   "cell_type": "code",
   "execution_count": 14,
   "metadata": {
    "id": "SLPdL5DxTvR5"
   },
   "outputs": [],
   "source": [
    "# Seleciona as caracteristicas interessantes \n",
    "X = df[['Equipe_Entrega', 'Canal_Entrega']]\n",
    "y = df['Status_Entrega']"
   ]
  },
  {
   "cell_type": "code",
   "execution_count": 15,
   "metadata": {
    "colab": {
     "base_uri": "https://localhost:8080/",
     "height": 423
    },
    "id": "j3k1T7GmXaa3",
    "outputId": "630dd5ed-98eb-4ccd-ec3f-57bbba080545"
   },
   "outputs": [],
   "source": [
    "# Converte x para valores numericos\n",
    "X_dummy = pd.get_dummies(X)"
   ]
  },
  {
   "cell_type": "markdown",
   "metadata": {},
   "source": [
    "#### Criação do modelo"
   ]
  },
  {
   "cell_type": "code",
   "execution_count": 7,
   "metadata": {},
   "outputs": [],
   "source": [
    "from sklearn.model_selection import train_test_split\n",
    "\n",
    "x_training_data, x_test_data, y_training_data, y_test_data = train_test_split(X_dummy\n",
    "                                                                              , y, test_size = 0.3)\n",
    "# Cria o modelo\n",
    "from sklearn.linear_model import LogisticRegression\n",
    "model = LogisticRegression()\n",
    "\n",
    "# Treina o modelo\n",
    "model.fit(x_training_data, y_training_data)\n",
    "predictions = model.predict(x_test_data)"
   ]
  },
  {
   "cell_type": "markdown",
   "metadata": {},
   "source": [
    "#### Avaliação"
   ]
  },
  {
   "cell_type": "code",
   "execution_count": 44,
   "metadata": {},
   "outputs": [
    {
     "name": "stdout",
     "output_type": "stream",
     "text": [
      "Accuracy: 0.8725435496869381\n"
     ]
    }
   ],
   "source": [
    "# Verifica a acuracia\n",
    "accuracy = accuracy_score(y_test_data, predictions)\n",
    "print(\"Accuracy:\", accuracy)"
   ]
  },
  {
   "cell_type": "code",
   "execution_count": 45,
   "metadata": {},
   "outputs": [
    {
     "name": "stdout",
     "output_type": "stream",
     "text": [
      "              precision    recall  f1-score   support\n",
      "\n",
      "    Atrasado       0.78      0.01      0.02      2069\n",
      "    Entregue       0.87      1.00      0.93     14062\n",
      "\n",
      "    accuracy                           0.87     16131\n",
      "   macro avg       0.83      0.50      0.47     16131\n",
      "weighted avg       0.86      0.87      0.81     16131\n",
      "\n"
     ]
    }
   ],
   "source": [
    "# Calcula as metricas\n",
    "from sklearn.metrics import classification_report\n",
    "print(classification_report(y_test_data, predictions))"
   ]
  },
  {
   "cell_type": "code",
   "execution_count": 46,
   "metadata": {},
   "outputs": [
    {
     "name": "stdout",
     "output_type": "stream",
     "text": [
      "[[   18  2051]\n",
      " [    5 14057]]\n"
     ]
    }
   ],
   "source": [
    "# Gera a matrix de confusao\n",
    "from sklearn.metrics import confusion_matrix\n",
    "print(confusion_matrix(y_test_data, predictions))"
   ]
  }
 ],
 "metadata": {
  "colab": {
   "provenance": []
  },
  "kernelspec": {
   "display_name": "Python 3 (ipykernel)",
   "language": "python",
   "name": "python3"
  },
  "language_info": {
   "codemirror_mode": {
    "name": "ipython",
    "version": 3
   },
   "file_extension": ".py",
   "mimetype": "text/x-python",
   "name": "python",
   "nbconvert_exporter": "python",
   "pygments_lexer": "ipython3",
   "version": "3.10.13"
  }
 },
 "nbformat": 4,
 "nbformat_minor": 4
}
